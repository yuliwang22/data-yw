{
 "cells": [
  {
   "cell_type": "code",
   "execution_count": 29,
   "metadata": {},
   "outputs": [],
   "source": [
    "# load in the relevant libraries\n",
    "import pandas as pd\n",
    "import numpy as np\n",
    "import matplotlib.pyplot as plt\n",
    "import seaborn as sns"
   ]
  },
  {
   "cell_type": "code",
   "execution_count": 14,
   "metadata": {},
   "outputs": [
    {
     "data": {
      "text/plain": [
       "(9617, 18)"
      ]
     },
     "execution_count": 14,
     "metadata": {},
     "output_type": "execute_result"
    }
   ],
   "source": [
    "# load in the data in use\n",
    "data = pd.read_csv(filepath_or_buffer= \"~/Desktop/datasets/vending_machine_sales.csv\")\n",
    "data.shape"
   ]
  },
  {
   "cell_type": "code",
   "execution_count": null,
   "metadata": {},
   "outputs": [],
   "source": [
    "# I am going to try to figure out the unique values of each variables (besides NAs)\n",
    "# pick out the columns with only one unique value and remove those (since there's no variability within that variable)\n",
    "\n",
    "initial_list= []\n",
    "for col in data.columns:\n",
    "    print(data[col].dropna().unique())\n",
    "    if (len(data[col].dropna().unique())==1) :\n",
    "        initial_list.append(col)\n",
    "    \n",
    "initial_list # list seems to be empty, there is no column that contains only one-value\n"
   ]
  },
  {
   "cell_type": "code",
   "execution_count": 15,
   "metadata": {},
   "outputs": [],
   "source": [
    "# manually cleaning the data and removing the columns that are not useful based on domain knowledge\n",
    "\n",
    "# 1. want to filter out 'unlinked' status transactions\n",
    "# since we're only interested in processed transactions\n",
    "data = data[data['Status'] == 'Processed']\n",
    "\n",
    "# now we can remove the status , we can also remove device ID because \n",
    "# it represents the same info as the column 'Machine'\n",
    "# also wanna remove 'Transaction' because it is a reference number, not interested in a particular transaction\n",
    "# for our purposes, we're trying to get the info of the retail items sales rather than the particular transaction\n",
    "# so we're removing all transaction related identifier \n",
    "# removing RCoil, MCoil since it is not within our purposes\n",
    "remove_cols=['Status', 'Device ID', 'Transaction', 'RCoil', 'MCoil', 'MQty', 'MPrice','TransTotal']\n",
    "data= data.drop(columns=remove_cols)\n"
   ]
  },
  {
   "cell_type": "code",
   "execution_count": 18,
   "metadata": {},
   "outputs": [
    {
     "data": {
      "text/html": [
       "<div>\n",
       "<style scoped>\n",
       "    .dataframe tbody tr th:only-of-type {\n",
       "        vertical-align: middle;\n",
       "    }\n",
       "\n",
       "    .dataframe tbody tr th {\n",
       "        vertical-align: top;\n",
       "    }\n",
       "\n",
       "    .dataframe thead th {\n",
       "        text-align: right;\n",
       "    }\n",
       "</style>\n",
       "<table border=\"1\" class=\"dataframe\">\n",
       "  <thead>\n",
       "    <tr style=\"text-align: right;\">\n",
       "      <th></th>\n",
       "      <th>Location</th>\n",
       "      <th>Machine</th>\n",
       "      <th>Product</th>\n",
       "      <th>Category</th>\n",
       "      <th>TransDate</th>\n",
       "      <th>Type</th>\n",
       "      <th>RPrice</th>\n",
       "      <th>RQty</th>\n",
       "      <th>LineTotal</th>\n",
       "      <th>Prcd Date</th>\n",
       "    </tr>\n",
       "  </thead>\n",
       "  <tbody>\n",
       "    <tr>\n",
       "      <th>0</th>\n",
       "      <td>Brunswick Sq Mall</td>\n",
       "      <td>BSQ Mall x1366 - ATT</td>\n",
       "      <td>Red Bull - Energy Drink - Sugar Free</td>\n",
       "      <td>Carbonated</td>\n",
       "      <td>1/1/2022</td>\n",
       "      <td>Credit</td>\n",
       "      <td>3.5</td>\n",
       "      <td>1</td>\n",
       "      <td>3.5</td>\n",
       "      <td>1/1/2022</td>\n",
       "    </tr>\n",
       "    <tr>\n",
       "      <th>1</th>\n",
       "      <td>Brunswick Sq Mall</td>\n",
       "      <td>BSQ Mall x1366 - ATT</td>\n",
       "      <td>Red Bull - Energy Drink - Sugar Free</td>\n",
       "      <td>Carbonated</td>\n",
       "      <td>1/1/2022</td>\n",
       "      <td>Credit</td>\n",
       "      <td>3.5</td>\n",
       "      <td>1</td>\n",
       "      <td>3.5</td>\n",
       "      <td>1/1/2022</td>\n",
       "    </tr>\n",
       "    <tr>\n",
       "      <th>2</th>\n",
       "      <td>Brunswick Sq Mall</td>\n",
       "      <td>BSQ Mall x1366 - ATT</td>\n",
       "      <td>Takis - Hot Chilli Pepper &amp; Lime</td>\n",
       "      <td>Food</td>\n",
       "      <td>1/1/2022</td>\n",
       "      <td>Credit</td>\n",
       "      <td>1.5</td>\n",
       "      <td>1</td>\n",
       "      <td>1.5</td>\n",
       "      <td>1/1/2022</td>\n",
       "    </tr>\n",
       "    <tr>\n",
       "      <th>3</th>\n",
       "      <td>Brunswick Sq Mall</td>\n",
       "      <td>BSQ Mall x1366 - ATT</td>\n",
       "      <td>Takis - Hot Chilli Pepper &amp; Lime</td>\n",
       "      <td>Food</td>\n",
       "      <td>1/1/2022</td>\n",
       "      <td>Credit</td>\n",
       "      <td>1.5</td>\n",
       "      <td>1</td>\n",
       "      <td>1.5</td>\n",
       "      <td>1/1/2022</td>\n",
       "    </tr>\n",
       "    <tr>\n",
       "      <th>4</th>\n",
       "      <td>Brunswick Sq Mall</td>\n",
       "      <td>BSQ Mall x1366 - ATT</td>\n",
       "      <td>Red Bull - Energy Drink - Sugar Free</td>\n",
       "      <td>Carbonated</td>\n",
       "      <td>1/1/2022</td>\n",
       "      <td>Credit</td>\n",
       "      <td>3.5</td>\n",
       "      <td>1</td>\n",
       "      <td>3.5</td>\n",
       "      <td>1/1/2022</td>\n",
       "    </tr>\n",
       "  </tbody>\n",
       "</table>\n",
       "</div>"
      ],
      "text/plain": [
       "            Location               Machine  \\\n",
       "0  Brunswick Sq Mall  BSQ Mall x1366 - ATT   \n",
       "1  Brunswick Sq Mall  BSQ Mall x1366 - ATT   \n",
       "2  Brunswick Sq Mall  BSQ Mall x1366 - ATT   \n",
       "3  Brunswick Sq Mall  BSQ Mall x1366 - ATT   \n",
       "4  Brunswick Sq Mall  BSQ Mall x1366 - ATT   \n",
       "\n",
       "                                Product    Category TransDate    Type  RPrice  \\\n",
       "0  Red Bull - Energy Drink - Sugar Free  Carbonated  1/1/2022  Credit     3.5   \n",
       "1  Red Bull - Energy Drink - Sugar Free  Carbonated  1/1/2022  Credit     3.5   \n",
       "2      Takis - Hot Chilli Pepper & Lime        Food  1/1/2022  Credit     1.5   \n",
       "3      Takis - Hot Chilli Pepper & Lime        Food  1/1/2022  Credit     1.5   \n",
       "4  Red Bull - Energy Drink - Sugar Free  Carbonated  1/1/2022  Credit     3.5   \n",
       "\n",
       "   RQty  LineTotal Prcd Date  \n",
       "0     1        3.5  1/1/2022  \n",
       "1     1        3.5  1/1/2022  \n",
       "2     1        1.5  1/1/2022  \n",
       "3     1        1.5  1/1/2022  \n",
       "4     1        3.5  1/1/2022  "
      ]
     },
     "execution_count": 18,
     "metadata": {},
     "output_type": "execute_result"
    }
   ],
   "source": [
    "data.shape\n",
    "data.head()"
   ]
  },
  {
   "cell_type": "code",
   "execution_count": 71,
   "metadata": {},
   "outputs": [
    {
     "ename": "TypeError",
     "evalue": "unsupported operand type(s) for +: 'int' and 'str'",
     "output_type": "error",
     "traceback": [
      "\u001b[0;31m---------------------------------------------------------------------------\u001b[0m",
      "\u001b[0;31mTypeError\u001b[0m                                 Traceback (most recent call last)",
      "Cell \u001b[0;32mIn[71], line 3\u001b[0m\n\u001b[1;32m      1\u001b[0m \u001b[38;5;66;03m# first task we're interested in - quantities sold and sales total of each category\u001b[39;00m\n\u001b[0;32m----> 3\u001b[0m result1\u001b[38;5;241m=\u001b[39mdata\u001b[38;5;241m.\u001b[39mgroupby(by \u001b[38;5;241m=\u001b[39m \u001b[38;5;124m'\u001b[39m\u001b[38;5;124mCategory\u001b[39m\u001b[38;5;124m'\u001b[39m)\u001b[38;5;241m.\u001b[39mapply(\u001b[38;5;28;43msum\u001b[39;49m\u001b[43m(\u001b[49m\u001b[38;5;124;43m'\u001b[39;49m\u001b[38;5;124;43mCategory\u001b[39;49m\u001b[38;5;124;43m'\u001b[39;49m\u001b[43m)\u001b[49m)\n\u001b[1;32m      5\u001b[0m \u001b[38;5;28;01mdef\u001b[39;00m \u001b[38;5;21mcalculated_total_sales\u001b[39m(group):\n\u001b[1;32m      6\u001b[0m     total_profit\u001b[38;5;241m=\u001b[39m(group[\u001b[38;5;124m'\u001b[39m\u001b[38;5;124mRQty\u001b[39m\u001b[38;5;124m'\u001b[39m]\u001b[38;5;241m*\u001b[39mgroup[\u001b[38;5;124m'\u001b[39m\u001b[38;5;124mRPrice\u001b[39m\u001b[38;5;124m'\u001b[39m])\u001b[38;5;241m.\u001b[39msum()\n",
      "\u001b[0;31mTypeError\u001b[0m: unsupported operand type(s) for +: 'int' and 'str'"
     ]
    }
   ],
   "source": [
    "# first task we're interested in - quantities sold and sales total of each category\n",
    "\n",
    "def calculated_total_sales(group):\n",
    "    total_profit=(group['RQty']*group['RPrice']).sum()\n",
    "    return pd.Series({'total_profit' : total_profit})\n",
    "\n",
    "result2=data.groupby(by='Category').apply(calculated_total_sales).reset_index()"
   ]
  },
  {
   "cell_type": "code",
   "execution_count": 36,
   "metadata": {},
   "outputs": [
    {
     "data": {
      "image/png": "[encoded data removed]",
      "text/plain": [
       "<Figure size 800x600 with 1 Axes>"
      ]
     },
     "metadata": {},
     "output_type": "display_data"
    }
   ],
   "source": [
    "plt.figure(figsize=(8, 6))\n",
    "plt.pie(result2['total_profit'], labels=result2['Category'], autopct='%1.1f%%', startangle=140)\n",
    "plt.title('Total Sales by Category')\n",
    "plt.show()\n"
   ]
  },
  {
   "cell_type": "code",
   "execution_count": 75,
   "metadata": {},
   "outputs": [
    {
     "data": {
      "image/png": "[encoded data removed]",
      "text/plain": [
       "<Figure size 800x600 with 1 Axes>"
      ]
     },
     "metadata": {},
     "output_type": "display_data"
    }
   ],
   "source": [
    "result1 = data.groupby(by='Category').agg({'RQty': 'sum'}).reset_index()\n",
    "result1\n",
    "plt.figure(figsize=(8, 6))\n",
    "sns.barplot(x='Category', y='RQty', data=result1)\n",
    "plt.title('Total quantity by Category')\n",
    "plt.xlabel('Category')\n",
    "plt.ylabel('Total RQty')\n",
    "plt.show()"
   ]
  },
  {
   "cell_type": "code",
   "execution_count": 73,
   "metadata": {},
   "outputs": [
    {
     "data": {
      "text/html": [
       "<div>\n",
       "<style scoped>\n",
       "    .dataframe tbody tr th:only-of-type {\n",
       "        vertical-align: middle;\n",
       "    }\n",
       "\n",
       "    .dataframe tbody tr th {\n",
       "        vertical-align: top;\n",
       "    }\n",
       "\n",
       "    .dataframe thead th {\n",
       "        text-align: right;\n",
       "    }\n",
       "</style>\n",
       "<table border=\"1\" class=\"dataframe\">\n",
       "  <thead>\n",
       "    <tr style=\"text-align: right;\">\n",
       "      <th></th>\n",
       "      <th>Category</th>\n",
       "      <th>RQty</th>\n",
       "    </tr>\n",
       "  </thead>\n",
       "  <tbody>\n",
       "    <tr>\n",
       "      <th>0</th>\n",
       "      <td>Carbonated</td>\n",
       "      <td>2397</td>\n",
       "    </tr>\n",
       "    <tr>\n",
       "      <th>1</th>\n",
       "      <td>Food</td>\n",
       "      <td>5381</td>\n",
       "    </tr>\n",
       "    <tr>\n",
       "      <th>2</th>\n",
       "      <td>Non Carbonated</td>\n",
       "      <td>1031</td>\n",
       "    </tr>\n",
       "    <tr>\n",
       "      <th>3</th>\n",
       "      <td>Water</td>\n",
       "      <td>672</td>\n",
       "    </tr>\n",
       "  </tbody>\n",
       "</table>\n",
       "</div>"
      ],
      "text/plain": [
       "         Category  RQty\n",
       "0      Carbonated  2397\n",
       "1            Food  5381\n",
       "2  Non Carbonated  1031\n",
       "3           Water   672"
      ]
     },
     "execution_count": 73,
     "metadata": {},
     "output_type": "execute_result"
    }
   ],
   "source": []
  }
 ],
 "metadata": {
  "kernelspec": {
   "display_name": "Python 3",
   "language": "python",
   "name": "python3"
  },
  "language_info": {
   "codemirror_mode": {
    "name": "ipython",
    "version": 3
   },
   "file_extension": ".py",
   "mimetype": "text/x-python",
   "name": "python",
   "nbconvert_exporter": "python",
   "pygments_lexer": "ipython3",
   "version": "3.10.6"
  }
 },
 "nbformat": 4,
 "nbformat_minor": 2
}
